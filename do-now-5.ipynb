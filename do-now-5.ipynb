{
 "cells": [
  {
   "cell_type": "markdown",
   "metadata": {},
   "source": [
    "1) What's the output of the following lines?\n",
    "\n",
    "name = \"Max\"\n",
    "\n",
    "print \"hello\", \"name\"\n",
    "\n",
    "print \"hello\", name"
   ]
  },
  {
   "cell_type": "code",
   "execution_count": 1,
   "metadata": {
    "collapsed": false
   },
   "outputs": [
    {
     "name": "stdout",
     "output_type": "stream",
     "text": [
      "hello name\n",
      "hello Max\n"
     ]
    }
   ],
   "source": [
    "#defines name as Max\n",
    "name = \"Max\"\n",
    "#prints the strings \"hello\" and \"name\"\n",
    "print \"hello\", \"name\"\n",
    "#prints the string \"hello\" and the variable name (defined as Max)\n",
    "print \"hello\", name"
   ]
  },
  {
   "cell_type": "markdown",
   "metadata": {},
   "source": [
    "2) What is the output of the following code? Which lines give you errors?\n",
    "\n",
    "borough_name = 'Manhattan'\n",
    "\n",
    "z = [ 'Manhattan', 'Queens' ]\n",
    "\n",
    "x = { 'borough_name': 'Manhattan', 'population': 500 }\n",
    "\n",
    "y = {'Manhattan': 500,'Queens': 200}\n",
    "\n",
    "print x['borough_name'] - Manhattan\n",
    "\n",
    "print x[borough_name]- ['Manhattan']\n",
    "\n",
    "print x[0] - error (dictionary, not list)\n",
    "\n",
    "print y['borough_name'] - error ('borough_name' not a key in y)\n",
    "\n",
    "print y[borough_name]- 500\n",
    "\n",
    "print y[0] - error (dictionary, not list)\n",
    "\n",
    "print z['borough_name'] - error (must be int not str)\n",
    "\n",
    "print z[borough_name] - error (must be int not str)\n",
    "\n",
    "print z[0] - Manhattan"
   ]
  },
  {
   "cell_type": "code",
   "execution_count": 6,
   "metadata": {
    "collapsed": false
   },
   "outputs": [
    {
     "name": "stdout",
     "output_type": "stream",
     "text": [
      "Manhattan\n"
     ]
    },
    {
     "ename": "KeyError",
     "evalue": "'Manhattan'",
     "output_type": "error",
     "traceback": [
      "\u001b[1;31m---------------------------------------------------------------------------\u001b[0m",
      "\u001b[1;31mKeyError\u001b[0m                                  Traceback (most recent call last)",
      "\u001b[1;32m<ipython-input-6-78e84aa56381>\u001b[0m in \u001b[0;36m<module>\u001b[1;34m()\u001b[0m\n\u001b[0;32m     10\u001b[0m \u001b[1;32mprint\u001b[0m \u001b[0mx\u001b[0m\u001b[1;33m[\u001b[0m\u001b[1;34m'borough_name'\u001b[0m\u001b[1;33m]\u001b[0m\u001b[1;33m\u001b[0m\u001b[0m\n\u001b[0;32m     11\u001b[0m \u001b[1;31m#prints\u001b[0m\u001b[1;33m\u001b[0m\u001b[1;33m\u001b[0m\u001b[0m\n\u001b[1;32m---> 12\u001b[1;33m \u001b[1;32mprint\u001b[0m \u001b[0mx\u001b[0m\u001b[1;33m[\u001b[0m\u001b[0mborough_name\u001b[0m\u001b[1;33m]\u001b[0m\u001b[1;33m\u001b[0m\u001b[0m\n\u001b[0m\u001b[0;32m     13\u001b[0m \u001b[1;31m#error - x is a dictionary, not a list, so calling for the nth variable doesn't work\u001b[0m\u001b[1;33m\u001b[0m\u001b[1;33m\u001b[0m\u001b[0m\n\u001b[0;32m     14\u001b[0m \u001b[1;31m#print x[0] - error (dictionary, not list)\u001b[0m\u001b[1;33m\u001b[0m\u001b[1;33m\u001b[0m\u001b[0m\n",
      "\u001b[1;31mKeyError\u001b[0m: 'Manhattan'"
     ]
    }
   ],
   "source": [
    "#defines borough_name as 'Manhattan'\n",
    "borough_name = 'Manhattan'\n",
    "#z is a list containing strings\n",
    "z = [ 'Manhattan', 'Queens' ]\n",
    "#x is a dictionary\n",
    "x = { 'borough_name': 'Manhattan', 'population': 500 }\n",
    "#y is a dictionary\n",
    "y = {'Manhattan': 500,'Queens': 200}\n",
    "#prints the value associated with the key 'borough_name' in x\n",
    "print x['borough_name']\n",
    "#prints \n",
    "print x[borough_name]\n",
    "#error - x is a dictionary, not a list, so calling for the nth variable doesn't work\n",
    "#print x[0] - error (dictionary, not list)\n",
    "print y['borough_name']\n",
    "print y[borough_name]\n",
    "print y[0]\n",
    "print z['borough_name']\n",
    "print z[borough_name]\n",
    "print z[0]"
   ]
  },
  {
   "cell_type": "code",
   "execution_count": 11,
   "metadata": {
    "collapsed": false
   },
   "outputs": [
    {
     "name": "stdout",
     "output_type": "stream",
     "text": [
      "Manhattan\n",
      "500\n"
     ]
    }
   ],
   "source": [
    "borough_name = 'Manhattan'\n",
    "#z is a list containing strings\n",
    "z = [ 'Manhattan', 'Queens' ]\n",
    "#x is a dictionary\n",
    "x = { 'borough_name': 'Manhattan', 'population': 500 }\n",
    "#y is a dictionary\n",
    "y = {'Manhattan': 500,'Queens': 200}\n",
    "#prints the value associated with the key 'borough_name' in x\n",
    "print x['borough_name']\n",
    "#prints \n",
    "#print x[borough_name]\n",
    "print y[borough_name]"
   ]
  }
 ],
 "metadata": {
  "kernelspec": {
   "display_name": "Python 2",
   "language": "python",
   "name": "python2"
  },
  "language_info": {
   "codemirror_mode": {
    "name": "ipython",
    "version": 2
   },
   "file_extension": ".py",
   "mimetype": "text/x-python",
   "name": "python",
   "nbconvert_exporter": "python",
   "pygments_lexer": "ipython2",
   "version": "2.7.9"
  }
 },
 "nbformat": 4,
 "nbformat_minor": 0
}
