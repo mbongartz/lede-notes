{
 "cells": [
  {
   "cell_type": "markdown",
   "metadata": {},
   "source": [
    "1) Given the following code, what is the output?\n",
    "\n",
    "i = 5\n",
    "\n",
    "print 5 * 5\n",
    "\n",
    "print i\n",
    "\n",
    "print \"cat\" + \"dog\"\n",
    "\n",
    "print \"cat\", \"dog\""
   ]
  },
  {
   "cell_type": "code",
   "execution_count": 1,
   "metadata": {
    "collapsed": false
   },
   "outputs": [
    {
     "name": "stdout",
     "output_type": "stream",
     "text": [
      "25\n",
      "5\n",
      "catdog\n",
      "cat dog\n"
     ]
    }
   ],
   "source": [
    "i = 5\n",
    "print 5*5\n",
    "print i\n",
    "print \"cat\" + \"dog\"\n",
    "print \"cat\", \"dog\""
   ]
  },
  {
   "cell_type": "markdown",
   "metadata": {},
   "source": [
    "Explanation:\n",
    "\n",
    "i is defined as 5 for all commands that follow\n",
    "\n",
    "the print function will display what follows as output to the user\n",
    "\n",
    "Math with integers works in python the same way as entering it in a calculator! 5 * 5 = 25, so 25 is the output.(If we wanted to print the whole problem, we would need to print a string \"5 * 5 = 25\")\n",
    "\n",
    "printing i calls up the value that i was defined at earlier, 5\n",
    "\n",
    "you can add strings with a + sign, and the result will be the strings combined without a space in between\n",
    "\n",
    "combining strings with a comma will leave a space in between. You can also combine strings with integers or \n",
    "\n"
   ]
  },
  {
   "cell_type": "markdown",
   "metadata": {},
   "source": [
    "2a&b) The code below doesn't work. Why not?\n",
    "\n",
    "print 5 + \"5\""
   ]
  },
  {
   "cell_type": "code",
   "execution_count": 4,
   "metadata": {
    "collapsed": false
   },
   "outputs": [
    {
     "name": "stdout",
     "output_type": "stream",
     "text": [
      "10\n",
      "5 5\n",
      "10.0\n"
     ]
    }
   ],
   "source": [
    "print 5 + 5\n",
    "print 5, \"5\"\n",
    "print 5 + 5.0"
   ]
  },
  {
   "cell_type": "markdown",
   "metadata": {},
   "source": [
    "Explanation:\n",
    "\n",
    "This code doesn't work because you can't concatonate two types of objects with a + sign. There are multiple ways of fixing this, depending on what you want to be printed. You can either make sure that the objects are the same type and continue using the + sign, or switch to a comma, which will conacatonate objects of different types by printing them next to each other with a space in between. Some options include:\n",
    "\n",
    "print 5 + 5\n",
    "\n",
    "print \"5\" + \"5\"\n",
    "\n",
    "print 5, \"5\"\n",
    "\n",
    "print 5 + int(\"5\")\n",
    "\n",
    "print str(5) + \"5\""
   ]
  },
  {
   "cell_type": "markdown",
   "metadata": {},
   "source": [
    "3) What is wrong with the following if statement?\n",
    "\n",
    "if n = 2:\n",
    "  print \"Two\""
   ]
  },
  {
   "cell_type": "code",
   "execution_count": 10,
   "metadata": {
    "collapsed": false
   },
   "outputs": [
    {
     "name": "stdout",
     "output_type": "stream",
     "text": [
      "Please enter a number: 2\n",
      "Two\n"
     ]
    }
   ],
   "source": [
    "n = int(raw_input(\"Please enter a number: \"))\n",
    "if n == 2:\n",
    "    print \"Two\""
   ]
  },
  {
   "cell_type": "markdown",
   "metadata": {},
   "source": [
    "Explanation:\n",
    "\n",
    "The = in the original code needs to be changed to ==. In Python, = is used to define variables, and == is used to mean \"is equal to.\""
   ]
  },
  {
   "cell_type": "markdown",
   "metadata": {},
   "source": [
    "4) Given the following code, what would the output be for n = 0, 10, -1, 3, and -5?\n",
    "\n",
    "print n\n",
    "\n",
    "if n > 0:\n",
    "  \n",
    "  print \"A\"\n",
    "  \n",
    "  if n >= 3:\n",
    "    \n",
    "    print \"B\"\n",
    "    \n",
    "    print \"C\"\n",
    "  \n",
    "  elsif n > 2:\n",
    "    \n",
    "    print \"D\"\n",
    "  \n",
    "  else:\n",
    "    \n",
    "    print \"E\"\n",
    "\n",
    "elsif 1 > n > -2:\n",
    "  \n",
    "  print \"F\"\n",
    "\n",
    "else:\n",
    "  \n",
    "  print \"G\"\n",
    "\n",
    "if n < 5:\n",
    "  \n",
    "  print \"H\""
   ]
  },
  {
   "cell_type": "code",
   "execution_count": 18,
   "metadata": {
    "collapsed": false
   },
   "outputs": [
    {
     "name": "stdout",
     "output_type": "stream",
     "text": [
      "Please enter a number: -5\n",
      "-5\n",
      "G\n",
      "H\n"
     ]
    }
   ],
   "source": [
    "n = int(raw_input(\"Please enter a number: \"))\n",
    "print n\n",
    "\n",
    "if n > 0:\n",
    "  \n",
    "  print \"A\"\n",
    "  \n",
    "  if n >= 3:\n",
    "    \n",
    "    print \"B\"\n",
    "    \n",
    "    print \"C\"\n",
    "  \n",
    "  elif n > 2:\n",
    "    \n",
    "    print \"D\"\n",
    "  \n",
    "  else:\n",
    "    \n",
    "    print \"E\"\n",
    "\n",
    "elif 1 > n > -2:\n",
    "  \n",
    "  print \"F\"\n",
    "\n",
    "else:\n",
    "  \n",
    "  print \"G\"\n",
    "\n",
    "if n < 5:\n",
    "  \n",
    "  print \"H\""
   ]
  },
  {
   "cell_type": "markdown",
   "metadata": {},
   "source": [
    "Explanation:\n",
    "\n",
    "0: 0, F, H\n",
    "\n",
    "10: 10, A, B, C\n",
    "\n",
    "-1: -1, F, H\n",
    "\n",
    "3: 3, A, B, C, H\n",
    "\n",
    "-5: -5, G, H\n",
    "\n",
    "When writing if statements, be careful with nesting and use of elif/else. For a given variable, if there is an if statement nested within another if statement, Python will check the variable against both statements. If there is an elif or else statement following and in line with an if statement, Python will only check the variable against the elif/else statement if it did not match the original if statement. If there is an if statement following and in line with the original if statement, Python will check against it because it is creating a new test.\n",
    "\n",
    "It is notable that the lines\n",
    "\n",
    "  elif n > 2:\n",
    "    \n",
    "    print \"D\"\n",
    "    \n",
    "are unnecessary because any variable matching these lines will have already been matched to the preceding lines of code and exited the test."
   ]
  },
  {
   "cell_type": "code",
   "execution_count": null,
   "metadata": {
    "collapsed": true
   },
   "outputs": [],
   "source": []
  }
 ],
 "metadata": {
  "kernelspec": {
   "display_name": "Python 2",
   "language": "python",
   "name": "python2"
  },
  "language_info": {
   "codemirror_mode": {
    "name": "ipython",
    "version": 2
   },
   "file_extension": ".py",
   "mimetype": "text/x-python",
   "name": "python",
   "nbconvert_exporter": "python",
   "pygments_lexer": "ipython2",
   "version": "2.7.9"
  }
 },
 "nbformat": 4,
 "nbformat_minor": 0
}
