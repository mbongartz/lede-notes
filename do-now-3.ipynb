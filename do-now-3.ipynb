{
 "cells": [
  {
   "cell_type": "markdown",
   "metadata": {},
   "source": [
    "1) What two errors can you spot below?\n",
    "\n",
    "n = 2;\n",
    "\n",
    "if n < 2:\n",
    "  \n",
    "  print \"Small\"\n",
    "\n",
    "elif n = 2:\n",
    "  \n",
    "  print \"Medium\"\n",
    "\n",
    "else print \"Large\""
   ]
  },
  {
   "cell_type": "code",
   "execution_count": 1,
   "metadata": {
    "collapsed": false
   },
   "outputs": [
    {
     "name": "stdout",
     "output_type": "stream",
     "text": [
      "Please enter a number: 2\n",
      "Medium\n"
     ]
    }
   ],
   "source": [
    "n = int(raw_input(\"Please enter a number: \"))\n",
    "if n < 2:\n",
    "    print \"Small\"\n",
    "elif n == 2:\n",
    "    print \"Medium\"\n",
    "else:\n",
    "    print \"Large\""
   ]
  },
  {
   "cell_type": "markdown",
   "metadata": {},
   "source": [
    "Explanation:\n",
    "\n",
    "The errors are as follows:\n",
    "\n",
    "1) elif n = 2 should be elif n == 2 because = defines a variable, whereas == is used to mean \"is equal to\"\n",
    "\n",
    "2) else print \"Large\" should be\n",
    "\n",
    "   else:\n",
    "      \n",
    "      print \"Large\"\n",
    "       \n",
    "   because the action portion of an if statement always needs to be indented on the next line, following a colon in Python\n",
    "\n",
    "* Note that I have substituted n = int(raw_input(\"Please enter a number: \")) for n = 2; in order to test for various instances of n. In the original code, the first and third cases would never occur because n is always 2. Additionally, the ; is unnecessary in that line of code.\n"
   ]
  },
  {
   "cell_type": "markdown",
   "metadata": {},
   "source": [
    "2) Given the following code, '11238' is a _____ and 23 is a _________.\n",
    "\n",
    "{ '11238': 23, '10011': 47 }"
   ]
  },
  {
   "cell_type": "markdown",
   "metadata": {},
   "source": [
    "Explanation:\n",
    "\n",
    "11238 is a key and 23 is a value. The code itself gives us a dictionary."
   ]
  },
  {
   "cell_type": "markdown",
   "metadata": {},
   "source": [
    "3) How would you add a 'low' of 54 to the following dictionary?\n",
    "\n",
    "weather = { 'high': 66, 'appearance': 'cloudy' }"
   ]
  },
  {
   "cell_type": "code",
   "execution_count": 3,
   "metadata": {
    "collapsed": false
   },
   "outputs": [
    {
     "name": "stdout",
     "output_type": "stream",
     "text": [
      "{'high': 66, 'appearance': 'cloudy', 'low': 54}\n"
     ]
    }
   ],
   "source": [
    "weather = {'high': 66, 'appearance': 'cloudy'}\n",
    "weather['low'] = 54\n",
    "print weather"
   ]
  },
  {
   "cell_type": "markdown",
   "metadata": {},
   "source": [
    "Explanation:\n",
    "\n",
    "In order to add an item to a dictionary, you will write a line of code with the following format: dictionary['key'] = value. This will update the dictionary with the new item without needing to go back and alter the code for the original dictionary.    "
   ]
  },
  {
   "cell_type": "markdown",
   "metadata": {},
   "source": [
    "4) How can we easily get the total of the list below? How about a count of how many elements are in the list?\n",
    "\n",
    "numbers = [ 1, 2, 3, 4, 5, 6, 7]"
   ]
  },
  {
   "cell_type": "code",
   "execution_count": 8,
   "metadata": {
    "collapsed": false
   },
   "outputs": [
    {
     "name": "stdout",
     "output_type": "stream",
     "text": [
      "28\n",
      "7\n"
     ]
    }
   ],
   "source": [
    "numbers = [1, 2, 3, 4, 5, 6, 7]\n",
    "print sum(numbers)\n",
    "print len(numbers)"
   ]
  },
  {
   "cell_type": "markdown",
   "metadata": {},
   "source": [
    "Explanation:\n",
    "\n",
    "The sum function will add together all of the numbers in a list. The len function will count the number of items in a list. These functions will work for lists, but not dictionaries. Len will also work for a string, and will count the number of characters in the string."
   ]
  },
  {
   "cell_type": "markdown",
   "metadata": {},
   "source": [
    "5) Print the 3rd element of a list named dogs. \n"
   ]
  },
  {
   "cell_type": "code",
   "execution_count": 9,
   "metadata": {
    "collapsed": false
   },
   "outputs": [
    {
     "name": "stdout",
     "output_type": "stream",
     "text": [
      "Max\n"
     ]
    }
   ],
   "source": [
    "dogs = ['Spike', 'Lola', 'Max', 'Annie']\n",
    "print dogs[2]"
   ]
  },
  {
   "cell_type": "markdown",
   "metadata": {},
   "source": [
    "Explanation:\n",
    "\n",
    "In Python lists, the total count starts at 0 instead of 1, so you will use 0 when looking for the first item, 1 when looking for the second item, 2 when looking for the third item, etc."
   ]
  },
  {
   "cell_type": "markdown",
   "metadata": {},
   "source": [
    "5a) Given the following dictionary, how can we get a list of all three ZIP codes?\n",
    "\n",
    "data = { '11238': 23, '10011': 47, '10011': 10 }"
   ]
  },
  {
   "cell_type": "code",
   "execution_count": 13,
   "metadata": {
    "collapsed": false
   },
   "outputs": [
    {
     "name": "stdout",
     "output_type": "stream",
     "text": [
      "['11238', '10011']\n"
     ]
    }
   ],
   "source": [
    "data = {'11238': 23, '10011': 47, '10011': 10}\n",
    "zip_list = []\n",
    "for zip in data.iterkeys():\n",
    "    zip_list.append(zip)\n",
    "print zip_list\n",
    "    \n",
    "    "
   ]
  },
  {
   "cell_type": "markdown",
   "metadata": {},
   "source": [
    "5b) Write a for loop that prints all three zip codes on separate lines. "
   ]
  },
  {
   "cell_type": "code",
   "execution_count": 17,
   "metadata": {
    "collapsed": false
   },
   "outputs": [
    {
     "name": "stdout",
     "output_type": "stream",
     "text": [
      "11238\n",
      "10011\n"
     ]
    }
   ],
   "source": [
    "for key in data.iterkeys():\n",
    "    print key"
   ]
  },
  {
   "cell_type": "markdown",
   "metadata": {},
   "source": [
    "Explanation:\n",
    "\n",
    "A for loop iterates through all items in a list or dictionary to check against conditions and execute commands if the conditions are met. In this instance, the for loop iterates through all keys in the data list and prints them. There are no additional conditions to be met outside of being contained in the data list."
   ]
  },
  {
   "cell_type": "markdown",
   "metadata": {},
   "source": [
    "6) Given the following list, add together any numbers greater than 10.\n",
    "\n",
    "values = [20, 30 ,10, 5, 99]"
   ]
  },
  {
   "cell_type": "code",
   "execution_count": 16,
   "metadata": {
    "collapsed": false
   },
   "outputs": [
    {
     "name": "stdout",
     "output_type": "stream",
     "text": [
      "149\n"
     ]
    }
   ],
   "source": [
    "values = [ 20,30,10,5,99 ]\n",
    "total = 0\n",
    "for value in values:\n",
    "    if value > 10:\n",
    "        total += value # equivalent to total = total + v\n",
    "print total"
   ]
  },
  {
   "cell_type": "markdown",
   "metadata": {},
   "source": [
    "Explanation:\n",
    "\n"
   ]
  }
 ],
 "metadata": {
  "kernelspec": {
   "display_name": "Python 2",
   "language": "python",
   "name": "python2"
  },
  "language_info": {
   "codemirror_mode": {
    "name": "ipython",
    "version": 2
   },
   "file_extension": ".py",
   "mimetype": "text/x-python",
   "name": "python",
   "nbconvert_exporter": "python",
   "pygments_lexer": "ipython2",
   "version": "2.7.9"
  }
 },
 "nbformat": 4,
 "nbformat_minor": 0
}
