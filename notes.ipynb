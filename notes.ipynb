{
 "cells": [
  {
   "cell_type": "markdown",
   "metadata": {},
   "source": [
    "#Notes\n",
    "A collection of useful information for someone learning Python, organized by topic"
   ]
  },
  {
   "cell_type": "markdown",
   "metadata": {},
   "source": [
    "##Useful Terminal Commands\n",
    "If you will by using the terminal or Babun to execute Python, the following commands may come in handy:\n",
    "* pwd - print working directory (prints the directory you are currently in)\n",
    "* cd - change directory\n",
    "    * cd .. - move up one directory\n",
    "    * cd ~ - go to home directory\n",
    "* tab - typing three characters and hiting the tab key will autocomplete what you are typing\n",
    "* cat - displays what is inside of a file\n",
    "* python - run a python program (python hello.py)\n",
    "* mv - move file (can also be used to rename a file)\n",
    "* wc - 1 - count lines\n",
    "* head -n 10 file - pulls first 10 lines of a file (doesn't have to be 10; head -n 20 data.csv)\n",
    "* tail -n 10 file - pulls last 10 lines of a file (doesn't have to be 10; tail -n 100 data.csv)"
   ]
  },
  {
   "cell_type": "markdown",
   "metadata": {},
   "source": [
    "#Defining Variables\n",
    "\n",
    "##Types of Variables\n",
    "Python uses several types of variables:\n",
    "* String - a word or combination of words contained by single or double quotation marks (i.e. \"dog\", 'The cow jumped over the moon'\n",
    "* Integer - a whole number (i.e. 1, 5, 72, 8356)\n",
    "* Float - a number followed by a decimal (i.e. 2.0, 0.765, 56.1)\n",
    "* List - a combination of objects (strings, numbers, or even dictionaries) separated by commas and contained by square brackets (i.e. [1, 2, 3, 4, 5], ['cat', 'dog', 'parrot', 'goldfish']\n",
    "* Dictionary - a combination of paired objects separated by commas, containing a key and a value separated by a colon, all contained by curly brackets (i.e. {'name': 'Meghan', 'age': 27, 'borough': 'Manhattan'}\n",
    "\n",
    "##How Do I Define a Variable?\n",
    "Short answer: with an = sign. You will set up a line of code with the name you want to give your variable on the left, followed by a single = sign, followed by the thing you want to define it as on the right. This works for all variable types, but is easiest to demonstrate with an integer or string.\n",
    "\n",
    "Examples:\n",
    "name = \"Meghan\"\n",
    "age = 27\n",
    "\n",
    "A variable must always be defined before you can use it. You can not define and use the variable in the same line of code. However, you can re-define a variable later in your code if it needs to change. Python will use the first definition of the variable for anything following it until it is redefined, and then use the new definition for any code that follows the new definition.\n",
    "\n",
    "You can also define a variable by requesting user input using the raw_input() function as follows:\n",
    "\n",
    "name = raw_input(\"What is your name? \")\n",
    "\n",
    "##Changing Variable Types\n",
    "\n",
    "If you need a variable to be a different type, you can change it using a function. The functions for each type is as follows:\n",
    "* String - str()\n",
    "* Integer - int()\n",
    "* Float - float()\n",
    "* List - list()\n",
    "* Dictionary - dict()\n",
    "\n",
    "If you want to check what the type of a variable is, there is a function for that, too: type()\n",
    "\n",
    "Some reasons you might want to change the type of your variable include:\n",
    "* If you need to add numbers as integers or floats, but they were entered as strings\n",
    "* If you want to combine an integer or float with a phrase/string using the + sign\n",
    "* If you want to do math that will need to have a decimal answer but currently have integers\n",
    "\n",
    "##Printing\n",
    "Once you define your variable, you may want to print it to check that it is working correctly (this is a good thing to do continuously as you add new code). Printing is easy - just type the word print followed by the thing you want to print. Be careful of quotation marks, though; printing a word contained in quotation marks will print that word as a string, but Python will read an unquoted word as a variable and try to print the value associated with it. You will probably want to do both of these things at some point - just make sure you're doing the right one.\n",
    "\n",
    "Example:\n",
    "\n",
    "name = \"Meghan\"\n",
    "print name - will have output: Meghan\n",
    "print \"name\" - will have output: name\n",
    "print Meghan - will have an error because there is no variable called Meghan"
   ]
  }
 ],
 "metadata": {
  "kernelspec": {
   "display_name": "Python 2",
   "language": "python",
   "name": "python2"
  },
  "language_info": {
   "codemirror_mode": {
    "name": "ipython",
    "version": 2
   },
   "file_extension": ".py",
   "mimetype": "text/x-python",
   "name": "python",
   "nbconvert_exporter": "python",
   "pygments_lexer": "ipython2",
   "version": "2.7.9"
  }
 },
 "nbformat": 4,
 "nbformat_minor": 0
}
